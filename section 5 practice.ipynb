{
 "cells": [
  {
   "cell_type": "code",
   "execution_count": 11,
   "id": "1cb57fd8-fa2f-4261-8cc1-cb6431b4337f",
   "metadata": {},
   "outputs": [
    {
     "name": "stdout",
     "output_type": "stream",
     "text": [
      " hellow world\n"
     ]
    }
   ],
   "source": [
    "a = (\" hellow world\")\n",
    "print(a)"
   ]
  },
  {
   "cell_type": "markdown",
   "id": "ebbdbb30-4281-4391-81fb-289cfcac92d2",
   "metadata": {},
   "source": [
    "# typecasting"
   ]
  },
  {
   "cell_type": "code",
   "execution_count": 27,
   "id": "bcdd89a6-4c40-4578-8e00-4dfc7e37bc83",
   "metadata": {},
   "outputs": [
    {
     "name": "stdout",
     "output_type": "stream",
     "text": [
      "23\n"
     ]
    }
   ],
   "source": [
    "x = \"23\"\n",
    "print(x)"
   ]
  },
  {
   "cell_type": "code",
   "execution_count": 31,
   "id": "b7fd5d9d-f706-4f23-9902-5a2d8b77fc38",
   "metadata": {},
   "outputs": [
    {
     "name": "stdout",
     "output_type": "stream",
     "text": [
      "<class 'str'>\n"
     ]
    }
   ],
   "source": [
    "print(type(x))"
   ]
  },
  {
   "cell_type": "code",
   "execution_count": 33,
   "id": "b4c5df7a-377e-4ae3-accf-440db73d99db",
   "metadata": {},
   "outputs": [
    {
     "name": "stdout",
     "output_type": "stream",
     "text": [
      "<class 'int'>\n"
     ]
    }
   ],
   "source": [
    "#print(type(int(x)))"
   ]
  },
  {
   "cell_type": "code",
   "execution_count": 35,
   "id": "16cbbd62-8697-4550-bf46-982fe41053a8",
   "metadata": {},
   "outputs": [
    {
     "name": "stdout",
     "output_type": "stream",
     "text": [
      "<class 'float'>\n"
     ]
    }
   ],
   "source": [
    "print(type(float(x)))"
   ]
  },
  {
   "cell_type": "markdown",
   "id": "b476e9cd-e419-4597-ba87-be227f90e2d0",
   "metadata": {},
   "source": [
    "# list "
   ]
  },
  {
   "cell_type": "code",
   "execution_count": 42,
   "id": "80fb5611-4b9d-4fcd-8342-145ec23b8b53",
   "metadata": {},
   "outputs": [
    {
     "name": "stdout",
     "output_type": "stream",
     "text": [
      "['23k', 23, 456, '34k', 12, '89k']\n"
     ]
    }
   ],
   "source": [
    "salaries = [\"23k\", 23, 456, \"34k\", 12, \"89k\"]\n",
    "print(salaries)"
   ]
  },
  {
   "cell_type": "markdown",
   "id": "e1533034-ffec-4bfe-abf2-856daa24ba21",
   "metadata": {},
   "source": [
    "# index"
   ]
  },
  {
   "cell_type": "code",
   "execution_count": 60,
   "id": "05f89185-5ddf-4e23-82ec-6ee3dca9791b",
   "metadata": {},
   "outputs": [
    {
     "data": {
      "text/plain": [
       "'34k'"
      ]
     },
     "execution_count": 60,
     "metadata": {},
     "output_type": "execute_result"
    }
   ],
   "source": [
    "salaries [3]"
   ]
  },
  {
   "cell_type": "markdown",
   "id": "d249d458-fff6-43ce-9741-5f77516134a3",
   "metadata": {},
   "source": [
    "# silicing"
   ]
  },
  {
   "cell_type": "code",
   "execution_count": 62,
   "id": "5ab7e912-9b0f-4e0d-94c8-962672eb65b5",
   "metadata": {},
   "outputs": [
    {
     "data": {
      "text/plain": [
       "[23, 456, '34k', 12]"
      ]
     },
     "execution_count": 62,
     "metadata": {},
     "output_type": "execute_result"
    }
   ],
   "source": [
    "salaries [1:-1]"
   ]
  },
  {
   "cell_type": "code",
   "execution_count": 46,
   "id": "d54948f5-f5aa-4b54-862d-fc3622cfda8e",
   "metadata": {},
   "outputs": [
    {
     "ename": "TypeError",
     "evalue": "list indices must be integers or slices, not tuple",
     "output_type": "error",
     "traceback": [
      "\u001b[1;31m---------------------------------------------------------------------------\u001b[0m",
      "\u001b[1;31mTypeError\u001b[0m                                 Traceback (most recent call last)",
      "Cell \u001b[1;32mIn[46], line 1\u001b[0m\n\u001b[1;32m----> 1\u001b[0m salaries [\u001b[38;5;241m3\u001b[39m, \u001b[38;5;241m5\u001b[39m]\n",
      "\u001b[1;31mTypeError\u001b[0m: list indices must be integers or slices, not tuple"
     ]
    }
   ],
   "source": [
    "salaries [3, 5]"
   ]
  },
  {
   "cell_type": "markdown",
   "id": "58e9a978-42b6-4a2c-aed1-fc7d46b76790",
   "metadata": {},
   "source": []
  },
  {
   "cell_type": "code",
   "execution_count": null,
   "id": "f078c875-cf98-4be8-ba7b-36a1d2277b97",
   "metadata": {},
   "outputs": [],
   "source": []
  },
  {
   "cell_type": "code",
   "execution_count": null,
   "id": "2f4c22b8-99e5-4562-bf14-a00abac25c01",
   "metadata": {},
   "outputs": [],
   "source": []
  },
  {
   "cell_type": "code",
   "execution_count": 17,
   "id": "d868cd75-37cb-4ee3-953f-4c472fef5bbf",
   "metadata": {},
   "outputs": [
    {
     "ename": "ValueError",
     "evalue": "invalid literal for int() with base 10: ' hellow world'",
     "output_type": "error",
     "traceback": [
      "\u001b[1;31m---------------------------------------------------------------------------\u001b[0m",
      "\u001b[1;31mValueError\u001b[0m                                Traceback (most recent call last)",
      "Cell \u001b[1;32mIn[17], line 1\u001b[0m\n\u001b[1;32m----> 1\u001b[0m \u001b[38;5;28mprint\u001b[39m(\u001b[38;5;28mtype\u001b[39m(\u001b[38;5;28mint\u001b[39m(a)))\n",
      "\u001b[1;31mValueError\u001b[0m: invalid literal for int() with base 10: ' hellow world'"
     ]
    }
   ],
   "source": [
    "print(type(int(a)))"
   ]
  },
  {
   "cell_type": "code",
   "execution_count": 19,
   "id": "2c5c6a5f-dd16-40d5-91af-ed9651afa209",
   "metadata": {},
   "outputs": [
    {
     "name": "stdout",
     "output_type": "stream",
     "text": [
      "23\n"
     ]
    }
   ],
   "source": [
    "x = \"23\"\n",
    "print(x)"
   ]
  },
  {
   "cell_type": "code",
   "execution_count": 21,
   "id": "4d49180d-184c-4bda-88fb-d434395b2eb9",
   "metadata": {},
   "outputs": [
    {
     "name": "stdout",
     "output_type": "stream",
     "text": [
      "<class 'str'>\n"
     ]
    }
   ],
   "source": [
    "print(t(x))"
   ]
  },
  {
   "cell_type": "code",
   "execution_count": 23,
   "id": "e2d486a2-b0bd-4e72-868c-f54435363e82",
   "metadata": {},
   "outputs": [
    {
     "ename": "TypeError",
     "evalue": "int() argument must be a string, a bytes-like object or a real number, not 'type'",
     "output_type": "error",
     "traceback": [
      "\u001b[1;31m---------------------------------------------------------------------------\u001b[0m",
      "\u001b[1;31mTypeError\u001b[0m                                 Traceback (most recent call last)",
      "Cell \u001b[1;32mIn[23], line 1\u001b[0m\n\u001b[1;32m----> 1\u001b[0m \u001b[38;5;28mprint\u001b[39m(\u001b[38;5;28mint\u001b[39m(\u001b[38;5;28mtype\u001b[39m(x)))\n",
      "\u001b[1;31mTypeError\u001b[0m: int() argument must be a string, a bytes-like object or a real number, not 'type'"
     ]
    }
   ],
   "source": [
    "print(int(type(x)))"
   ]
  },
  {
   "cell_type": "code",
   "execution_count": null,
   "id": "c482b526-c847-4aab-9668-248d4ab17b1e",
   "metadata": {},
   "outputs": [],
   "source": []
  }
 ],
 "metadata": {
  "kernelspec": {
   "display_name": "Python 3 (ipykernel)",
   "language": "python",
   "name": "python3"
  },
  "language_info": {
   "codemirror_mode": {
    "name": "ipython",
    "version": 3
   },
   "file_extension": ".py",
   "mimetype": "text/x-python",
   "name": "python",
   "nbconvert_exporter": "python",
   "pygments_lexer": "ipython3",
   "version": "3.12.4"
  }
 },
 "nbformat": 4,
 "nbformat_minor": 5
}
